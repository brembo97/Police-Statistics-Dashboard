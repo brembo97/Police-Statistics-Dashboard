{
 "cells": [
  {
   "cell_type": "code",
   "execution_count": 1,
   "metadata": {
    "collapsed": true
   },
   "outputs": [],
   "source": [
    "import pandas as pd\n",
    "\n",
    "columns = [\"Delito\", \"Subdelito\", \"Fecha\", \"Victima\", \"Subvictima\", \"Adulto\", \"Genero\", \"Nacionalidad\", \"Provincia\", \"Canton\", \"Distrito\"]"
   ]
  },
  {
   "cell_type": "markdown",
   "source": [
    "## Cargar los datos"
   ],
   "metadata": {
    "collapsed": false,
    "pycharm": {
     "name": "#%% md\n"
    }
   }
  },
  {
   "cell_type": "code",
   "execution_count": 2,
   "outputs": [],
   "source": [
    "police_15 = pd.read_csv('./Data/PJCROD_POLICIALES_V1-2015.csv',\n",
    "                     encoding='latin1', names=columns, )\n",
    "\n",
    "police_15['Fecha'] = pd.to_datetime(police_15['Fecha'])\n",
    "police_15['Ano'] = police_15['Fecha'].apply(lambda x: x.year)"
   ],
   "metadata": {
    "collapsed": false,
    "pycharm": {
     "name": "#%%\n"
    }
   }
  },
  {
   "cell_type": "code",
   "execution_count": 3,
   "outputs": [],
   "source": [
    "police_16 = pd.read_csv('./Data/PJCROD_POLICIALES_V1-2016.csv',\n",
    "                     encoding='latin1', names=columns)\n",
    "\n",
    "police_16['Fecha'] = pd.to_datetime(police_16['Fecha'])\n",
    "police_16['Ano'] = police_16['Fecha'].apply(lambda x: x.year)"
   ],
   "metadata": {
    "collapsed": false,
    "pycharm": {
     "name": "#%%\n"
    }
   }
  },
  {
   "cell_type": "code",
   "execution_count": 4,
   "outputs": [],
   "source": [
    "police_17 = pd.read_csv('./Data/PJCROD_POLICIALES_V1-2017.csv',\n",
    "                     encoding='latin1', names=columns)\n",
    "\n",
    "police_17['Fecha'] = pd.to_datetime(police_17['Fecha'])\n",
    "police_17['Ano'] = police_17['Fecha'].apply(lambda x: x.year)"
   ],
   "metadata": {
    "collapsed": false,
    "pycharm": {
     "name": "#%%\n"
    }
   }
  },
  {
   "cell_type": "code",
   "execution_count": 5,
   "outputs": [],
   "source": [
    "police_18 = pd.read_csv('./Data/PJCROD_POLICIALES_V1-2018.csv',\n",
    "                     encoding='latin1', names=columns)\n",
    "\n",
    "police_18['Fecha'] = pd.to_datetime(police_18['Fecha'])\n",
    "police_18['Ano'] = police_18['Fecha'].apply(lambda x: x.year)"
   ],
   "metadata": {
    "collapsed": false,
    "pycharm": {
     "name": "#%%\n"
    }
   }
  },
  {
   "cell_type": "code",
   "execution_count": 6,
   "outputs": [],
   "source": [
    "police_19 = pd.read_csv('./Data/PJCROD_POLICIALES_V1-2019.csv',\n",
    "                     encoding='latin1', names=columns, index_col=False)\n",
    "\n",
    "police_19['Fecha'] = pd.to_datetime(police_19['Fecha'])\n",
    "police_19['Ano'] = police_19['Fecha'].apply(lambda x: x.year)"
   ],
   "metadata": {
    "collapsed": false,
    "pycharm": {
     "name": "#%%\n"
    }
   }
  },
  {
   "cell_type": "code",
   "execution_count": 47,
   "outputs": [
    {
     "data": {
      "text/plain": "                 Delito            Subdelito      Fecha   Victima  \\\n16149  ROBO DE VEHICULO             DESCUIDO 2018-04-06  VEHICULO   \n47031              ROBO            FORZADURA 2017-10-20  VIVIENDA   \n32388            ASALTO  INTIMIDACION VERBAL 2015-08-06   PERSONA   \n52140             HURTO         POR DESCUIDO 2017-11-19   PERSONA   \n29013            ASALTO               GOLPES 2015-07-16   PERSONA   \n\n                                       Subvictima  \\\n16149                         MICROBUS [VEHICULO]   \n47031                        NO APLICA [VIVIENDA]   \n32388                            PEATON [PERSONA]   \n52140  USUARIO SERVICIO PUBLICO/PRIVADO [PERSONA]   \n29013                            PEATON [PERSONA]   \n\n                                                  Adulto  Genero  \\\n16149  Mayor de edad                                 ...  HOMBRE   \n47031  Mayor de edad                                 ...   MUJER   \n32388  Mayor de edad                                 ...   MUJER   \n52140  Mayor de edad                                 ...   MUJER   \n29013  Mayor de edad                                 ...  HOMBRE   \n\n                 Nacionalidad   Provincia      Canton    Distrito   Ano  \n16149              COSTA RICA    SAN JOSE  CURRIDABAT  CURRIDABAT  2018  \n47031              COSTA RICA    ALAJUELA      ATENAS  CONCEPCION  2017  \n32388              COSTA RICA     HEREDIA     HEREDIA    MERCEDES  2015  \n52140  PAISES BAJOS (HOLANDA)  PUNTARENAS      QUEPOS      QUEPOS  2017  \n29013               NICARAGUA    SAN JOSE    SAN JOSE     HATILLO  2015  ",
      "text/html": "<div>\n<style scoped>\n    .dataframe tbody tr th:only-of-type {\n        vertical-align: middle;\n    }\n\n    .dataframe tbody tr th {\n        vertical-align: top;\n    }\n\n    .dataframe thead th {\n        text-align: right;\n    }\n</style>\n<table border=\"1\" class=\"dataframe\">\n  <thead>\n    <tr style=\"text-align: right;\">\n      <th></th>\n      <th>Delito</th>\n      <th>Subdelito</th>\n      <th>Fecha</th>\n      <th>Victima</th>\n      <th>Subvictima</th>\n      <th>Adulto</th>\n      <th>Genero</th>\n      <th>Nacionalidad</th>\n      <th>Provincia</th>\n      <th>Canton</th>\n      <th>Distrito</th>\n      <th>Ano</th>\n    </tr>\n  </thead>\n  <tbody>\n    <tr>\n      <th>16149</th>\n      <td>ROBO DE VEHICULO</td>\n      <td>DESCUIDO</td>\n      <td>2018-04-06</td>\n      <td>VEHICULO</td>\n      <td>MICROBUS [VEHICULO]</td>\n      <td>Mayor de edad                                 ...</td>\n      <td>HOMBRE</td>\n      <td>COSTA RICA</td>\n      <td>SAN JOSE</td>\n      <td>CURRIDABAT</td>\n      <td>CURRIDABAT</td>\n      <td>2018</td>\n    </tr>\n    <tr>\n      <th>47031</th>\n      <td>ROBO</td>\n      <td>FORZADURA</td>\n      <td>2017-10-20</td>\n      <td>VIVIENDA</td>\n      <td>NO APLICA [VIVIENDA]</td>\n      <td>Mayor de edad                                 ...</td>\n      <td>MUJER</td>\n      <td>COSTA RICA</td>\n      <td>ALAJUELA</td>\n      <td>ATENAS</td>\n      <td>CONCEPCION</td>\n      <td>2017</td>\n    </tr>\n    <tr>\n      <th>32388</th>\n      <td>ASALTO</td>\n      <td>INTIMIDACION VERBAL</td>\n      <td>2015-08-06</td>\n      <td>PERSONA</td>\n      <td>PEATON [PERSONA]</td>\n      <td>Mayor de edad                                 ...</td>\n      <td>MUJER</td>\n      <td>COSTA RICA</td>\n      <td>HEREDIA</td>\n      <td>HEREDIA</td>\n      <td>MERCEDES</td>\n      <td>2015</td>\n    </tr>\n    <tr>\n      <th>52140</th>\n      <td>HURTO</td>\n      <td>POR DESCUIDO</td>\n      <td>2017-11-19</td>\n      <td>PERSONA</td>\n      <td>USUARIO SERVICIO PUBLICO/PRIVADO [PERSONA]</td>\n      <td>Mayor de edad                                 ...</td>\n      <td>MUJER</td>\n      <td>PAISES BAJOS (HOLANDA)</td>\n      <td>PUNTARENAS</td>\n      <td>QUEPOS</td>\n      <td>QUEPOS</td>\n      <td>2017</td>\n    </tr>\n    <tr>\n      <th>29013</th>\n      <td>ASALTO</td>\n      <td>GOLPES</td>\n      <td>2015-07-16</td>\n      <td>PERSONA</td>\n      <td>PEATON [PERSONA]</td>\n      <td>Mayor de edad                                 ...</td>\n      <td>HOMBRE</td>\n      <td>NICARAGUA</td>\n      <td>SAN JOSE</td>\n      <td>SAN JOSE</td>\n      <td>HATILLO</td>\n      <td>2015</td>\n    </tr>\n  </tbody>\n</table>\n</div>"
     },
     "execution_count": 47,
     "metadata": {},
     "output_type": "execute_result"
    }
   ],
   "source": [
    "police = pd.concat([police_15,police_16,police_17,police_18,police_19])\n",
    "police.sample(5)"
   ],
   "metadata": {
    "collapsed": false,
    "pycharm": {
     "name": "#%%\n"
    }
   }
  },
  {
   "cell_type": "markdown",
   "source": [
    "## Limpieza y Manipulacion de datos"
   ],
   "metadata": {
    "collapsed": false,
    "pycharm": {
     "name": "#%% md\n"
    }
   }
  },
  {
   "cell_type": "code",
   "execution_count": 48,
   "outputs": [],
   "source": [
    "# Cantones\n",
    "police.loc[police['Canton'] == 'CAï¿½AS','Canton'] = 'CAÑAS'\n",
    "police.loc[police['Canton'] == 'SARCHï¿½','Canton'] = 'SARCHI'\n",
    "\n",
    "# Distritos\n",
    "police.loc[police['Distrito'] == 'CAï¿½AS','Distrito'] = 'CAÑAS'\n",
    "police.loc[police['Distrito'] == 'CAï¿½AS DULCES','Distrito'] = 'CAÑAS DULCES'\n",
    "police.loc[police['Distrito'] == 'PEï¿½AS BLANCAS','Distrito'] = 'PEÑAS BLANCAS'\n",
    "police.loc[police['Distrito'] == 'REVENTAZï¿½N','Distrito'] = 'REVENTAZON'\n",
    "\n",
    "# Eliminar desconocido\n",
    "desconocidos = ((police['Canton'] == 'DESCONOCIDO') |\n",
    "                (police['Distrito'] == 'DESCONOCIDO') )\n",
    "police.drop(police[desconocidos].index, inplace=True)"
   ],
   "metadata": {
    "collapsed": false,
    "pycharm": {
     "name": "#%%\n"
    }
   }
  },
  {
   "cell_type": "code",
   "execution_count": 76,
   "outputs": [
    {
     "data": {
      "text/plain": "2684     RIO CUARTO\n3034     RIO CUARTO\n3035     RIO CUARTO\n4067     RIO CUARTO\n4655     RIO CUARTO\n            ...    \n48893    RIO CUARTO\n49052    RIO CUARTO\n49352    RIO CUARTO\n55290    RIO CUARTO\n55963    RIO CUARTO\nName: Canton, Length: 333, dtype: object"
     },
     "execution_count": 76,
     "metadata": {},
     "output_type": "execute_result"
    }
   ],
   "source": [
    "# Grecia --> Rio Cuarto\n",
    "police.loc[police['Distrito'] == 'RIO CUARTO','Canton'] = 'RIO CUARTO'\n"
   ],
   "metadata": {
    "collapsed": false,
    "pycharm": {
     "name": "#%%\n"
    }
   }
  },
  {
   "cell_type": "code",
   "execution_count": 50,
   "outputs": [],
   "source": [
    "police_grouped = police.groupby(['Delito', 'Subdelito', 'Ano', 'Provincia', 'Canton', 'Distrito']).size().to_frame('Count').reset_index()"
   ],
   "metadata": {
    "collapsed": false,
    "pycharm": {
     "name": "#%%\n"
    }
   }
  },
  {
   "cell_type": "code",
   "execution_count": 89,
   "outputs": [
    {
     "data": {
      "text/plain": "  Provincia    Canton  Distrito  Poblacion\n0  San Jose  San Jose       NaN     339581\n1  San Jose  San Jose    Carmen       3070\n2  San Jose  San Jose    Merced      14846\n3  San Jose  San Jose  Hospital      23099\n4  San Jose  San Jose  Catedral      15382",
      "text/html": "<div>\n<style scoped>\n    .dataframe tbody tr th:only-of-type {\n        vertical-align: middle;\n    }\n\n    .dataframe tbody tr th {\n        vertical-align: top;\n    }\n\n    .dataframe thead th {\n        text-align: right;\n    }\n</style>\n<table border=\"1\" class=\"dataframe\">\n  <thead>\n    <tr style=\"text-align: right;\">\n      <th></th>\n      <th>Provincia</th>\n      <th>Canton</th>\n      <th>Distrito</th>\n      <th>Poblacion</th>\n    </tr>\n  </thead>\n  <tbody>\n    <tr>\n      <th>0</th>\n      <td>San Jose</td>\n      <td>San Jose</td>\n      <td>NaN</td>\n      <td>339581</td>\n    </tr>\n    <tr>\n      <th>1</th>\n      <td>San Jose</td>\n      <td>San Jose</td>\n      <td>Carmen</td>\n      <td>3070</td>\n    </tr>\n    <tr>\n      <th>2</th>\n      <td>San Jose</td>\n      <td>San Jose</td>\n      <td>Merced</td>\n      <td>14846</td>\n    </tr>\n    <tr>\n      <th>3</th>\n      <td>San Jose</td>\n      <td>San Jose</td>\n      <td>Hospital</td>\n      <td>23099</td>\n    </tr>\n    <tr>\n      <th>4</th>\n      <td>San Jose</td>\n      <td>San Jose</td>\n      <td>Catedral</td>\n      <td>15382</td>\n    </tr>\n  </tbody>\n</table>\n</div>"
     },
     "execution_count": 89,
     "metadata": {},
     "output_type": "execute_result"
    }
   ],
   "source": [
    "poblaciones = pd.read_csv('./Data/Poblaciones.csv', encoding='latin1')\n",
    "poblaciones.head()"
   ],
   "metadata": {
    "collapsed": false,
    "pycharm": {
     "name": "#%%\n"
    }
   }
  },
  {
   "cell_type": "code",
   "execution_count": 90,
   "outputs": [],
   "source": [
    "poblaciones['Provincia'] = poblaciones['Provincia'].str.upper()\n",
    "poblaciones['Canton'] = poblaciones['Canton'].str.upper()\n",
    "poblaciones['Distrito'] = poblaciones['Distrito'].str.upper()"
   ],
   "metadata": {
    "collapsed": false,
    "pycharm": {
     "name": "#%%\n"
    }
   }
  },
  {
   "cell_type": "code",
   "execution_count": 91,
   "outputs": [
    {
     "data": {
      "text/plain": "   Delito    Subdelito   Ano Provincia    Canton      Distrito  Count  \\\n0  ASALTO  ARMA BLANCA  2015  ALAJUELA  ALAJUELA      ALAJUELA    114   \n1  ASALTO  ARMA BLANCA  2015  ALAJUELA  ALAJUELA      CARRIZAL      2   \n2  ASALTO  ARMA BLANCA  2015  ALAJUELA  ALAJUELA  DESAMPARADOS     11   \n3  ASALTO  ARMA BLANCA  2015  ALAJUELA  ALAJUELA       GUACIMA      7   \n4  ASALTO  ARMA BLANCA  2015  ALAJUELA  ALAJUELA     LA GARITA      1   \n\n   Poblacion  \n0    47477.0  \n1     8328.0  \n2    31261.0  \n3    24598.0  \n4     8894.0  ",
      "text/html": "<div>\n<style scoped>\n    .dataframe tbody tr th:only-of-type {\n        vertical-align: middle;\n    }\n\n    .dataframe tbody tr th {\n        vertical-align: top;\n    }\n\n    .dataframe thead th {\n        text-align: right;\n    }\n</style>\n<table border=\"1\" class=\"dataframe\">\n  <thead>\n    <tr style=\"text-align: right;\">\n      <th></th>\n      <th>Delito</th>\n      <th>Subdelito</th>\n      <th>Ano</th>\n      <th>Provincia</th>\n      <th>Canton</th>\n      <th>Distrito</th>\n      <th>Count</th>\n      <th>Poblacion</th>\n    </tr>\n  </thead>\n  <tbody>\n    <tr>\n      <th>0</th>\n      <td>ASALTO</td>\n      <td>ARMA BLANCA</td>\n      <td>2015</td>\n      <td>ALAJUELA</td>\n      <td>ALAJUELA</td>\n      <td>ALAJUELA</td>\n      <td>114</td>\n      <td>47477.0</td>\n    </tr>\n    <tr>\n      <th>1</th>\n      <td>ASALTO</td>\n      <td>ARMA BLANCA</td>\n      <td>2015</td>\n      <td>ALAJUELA</td>\n      <td>ALAJUELA</td>\n      <td>CARRIZAL</td>\n      <td>2</td>\n      <td>8328.0</td>\n    </tr>\n    <tr>\n      <th>2</th>\n      <td>ASALTO</td>\n      <td>ARMA BLANCA</td>\n      <td>2015</td>\n      <td>ALAJUELA</td>\n      <td>ALAJUELA</td>\n      <td>DESAMPARADOS</td>\n      <td>11</td>\n      <td>31261.0</td>\n    </tr>\n    <tr>\n      <th>3</th>\n      <td>ASALTO</td>\n      <td>ARMA BLANCA</td>\n      <td>2015</td>\n      <td>ALAJUELA</td>\n      <td>ALAJUELA</td>\n      <td>GUACIMA</td>\n      <td>7</td>\n      <td>24598.0</td>\n    </tr>\n    <tr>\n      <th>4</th>\n      <td>ASALTO</td>\n      <td>ARMA BLANCA</td>\n      <td>2015</td>\n      <td>ALAJUELA</td>\n      <td>ALAJUELA</td>\n      <td>LA GARITA</td>\n      <td>1</td>\n      <td>8894.0</td>\n    </tr>\n  </tbody>\n</table>\n</div>"
     },
     "execution_count": 91,
     "metadata": {},
     "output_type": "execute_result"
    }
   ],
   "source": [
    "police_final = police_grouped.merge(poblaciones, how='left',\n",
    "                                    on=['Provincia','Canton', 'Distrito'])\n",
    "police_final.head()\n"
   ],
   "metadata": {
    "collapsed": false,
    "pycharm": {
     "name": "#%%\n"
    }
   }
  },
  {
   "cell_type": "code",
   "execution_count": 92,
   "outputs": [],
   "source": [
    "# Imprimir datos NA\n",
    "\n",
    "# police_final[police_final[\"Poblacion\"].isna()].to_excel('prueba.xlsx')"
   ],
   "metadata": {
    "collapsed": false,
    "pycharm": {
     "name": "#%%\n"
    }
   }
  },
  {
   "cell_type": "code",
   "execution_count": 94,
   "outputs": [
    {
     "data": {
      "text/plain": "Delito       0\nSubdelito    0\nAno          0\nProvincia    0\nCanton       0\nDistrito     0\nCount        0\nPoblacion    0\ndtype: int64"
     },
     "execution_count": 94,
     "metadata": {},
     "output_type": "execute_result"
    }
   ],
   "source": [
    "police_final.dropna(inplace = True)\n",
    "police_final.isna().sum()"
   ],
   "metadata": {
    "collapsed": false,
    "pycharm": {
     "name": "#%%\n"
    }
   }
  }
 ],
 "metadata": {
  "kernelspec": {
   "display_name": "Python 3",
   "language": "python",
   "name": "python3"
  },
  "language_info": {
   "codemirror_mode": {
    "name": "ipython",
    "version": 2
   },
   "file_extension": ".py",
   "mimetype": "text/x-python",
   "name": "python",
   "nbconvert_exporter": "python",
   "pygments_lexer": "ipython2",
   "version": "2.7.6"
  }
 },
 "nbformat": 4,
 "nbformat_minor": 0
}