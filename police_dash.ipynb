{
 "cells": [
  {
   "cell_type": "code",
   "execution_count": 70,
   "metadata": {
    "collapsed": true
   },
   "outputs": [],
   "source": [
    "import pandas as pd\n",
    "\n",
    "columns = [\"Delito\", \"Subdelito\", \"Fecha\", \"Victima\", \"Subvictima\", \"Adulto\", \"Genero\", \"Nacionalidad\", \"Provincia\", \"Canton\", \"Distrito\"]"
   ]
  },
  {
   "cell_type": "markdown",
   "source": [
    "## Cargar los datos"
   ],
   "metadata": {
    "collapsed": false,
    "pycharm": {
     "name": "#%% md\n"
    }
   }
  },
  {
   "cell_type": "code",
   "execution_count": 71,
   "outputs": [],
   "source": [
    "police_15 = pd.read_csv('./Data/PJCROD_POLICIALES_V1-2015.csv',\n",
    "                     encoding='latin1', names=columns, )\n",
    "\n",
    "police_15['Fecha'] = pd.to_datetime(police_15['Fecha'])\n",
    "police_15['Ano'] = police_15['Fecha'].apply(lambda x: x.year)"
   ],
   "metadata": {
    "collapsed": false,
    "pycharm": {
     "name": "#%%\n"
    }
   }
  },
  {
   "cell_type": "code",
   "execution_count": 72,
   "outputs": [],
   "source": [
    "police_16 = pd.read_csv('./Data/PJCROD_POLICIALES_V1-2016.csv',\n",
    "                     encoding='latin1', names=columns)\n",
    "\n",
    "police_16['Fecha'] = pd.to_datetime(police_16['Fecha'])\n",
    "police_16['Ano'] = police_16['Fecha'].apply(lambda x: x.year)"
   ],
   "metadata": {
    "collapsed": false,
    "pycharm": {
     "name": "#%%\n"
    }
   }
  },
  {
   "cell_type": "code",
   "execution_count": 73,
   "outputs": [],
   "source": [
    "police_17 = pd.read_csv('./Data/PJCROD_POLICIALES_V1-2017.csv',\n",
    "                     encoding='latin1', names=columns)\n",
    "\n",
    "police_17['Fecha'] = pd.to_datetime(police_17['Fecha'])\n",
    "police_17['Ano'] = police_17['Fecha'].apply(lambda x: x.year)"
   ],
   "metadata": {
    "collapsed": false,
    "pycharm": {
     "name": "#%%\n"
    }
   }
  },
  {
   "cell_type": "code",
   "execution_count": 74,
   "outputs": [],
   "source": [
    "police_18 = pd.read_csv('./Data/PJCROD_POLICIALES_V1-2018.csv',\n",
    "                     encoding='latin1', names=columns)\n",
    "\n",
    "police_18['Fecha'] = pd.to_datetime(police_18['Fecha'])\n",
    "police_18['Ano'] = police_18['Fecha'].apply(lambda x: x.year)"
   ],
   "metadata": {
    "collapsed": false,
    "pycharm": {
     "name": "#%%\n"
    }
   }
  },
  {
   "cell_type": "code",
   "execution_count": 75,
   "outputs": [],
   "source": [
    "police_19 = pd.read_csv('./Data/PJCROD_POLICIALES_V1-2019.csv',\n",
    "                     encoding='latin1', names=columns, index_col=False)\n",
    "\n",
    "police_19['Fecha'] = pd.to_datetime(police_19['Fecha'])\n",
    "police_19['Ano'] = police_19['Fecha'].apply(lambda x: x.year)"
   ],
   "metadata": {
    "collapsed": false,
    "pycharm": {
     "name": "#%%\n"
    }
   }
  },
  {
   "cell_type": "code",
   "execution_count": 76,
   "outputs": [
    {
     "data": {
      "text/plain": "          Delito                   Subdelito      Fecha      Victima  \\\n14170      HURTO                POR DESCUIDO 2016-04-02     VEHICULO   \n48262       ROBO              CORTA CANDADOS 2016-10-29  EDIFICACION   \n15307       ROBO                   FORZADURA 2018-04-01  EDIFICACION   \n7670   HOMICIDIO  AJUSTE DE CUENTAS/VENGANZA 2016-02-20      PERSONA   \n21625       ROBO        OTRO O INDETERMINADO 2019-05-18      PERSONA   \n\n                               Subvictima  \\\n14170                AUTOMOVIL [VEHICULO]   \n48262                TALLER [EDIFICACION]   \n15307  OTRO O INDETERMINADO [EDIFICACION]   \n7670                     PEATON [PERSONA]   \n21625      OTRO O INDETERMINADO [PERSONA]   \n\n                                                  Adulto  Genero Nacionalidad  \\\n14170  Mayor de edad                                 ...  HOMBRE   COSTA RICA   \n48262  Mayor de edad                                 ...  HOMBRE   COSTA RICA   \n15307  Mayor de edad                                 ...  HOMBRE   COSTA RICA   \n7670   Mayor de edad                                 ...  HOMBRE   COSTA RICA   \n21625  Mayor de edad                                 ...  HOMBRE   COSTA RICA   \n\n        Provincia        Canton      Distrito   Ano  \n14170  GUANACASTE       LIBERIA       LIBERIA  2016  \n48262  PUNTARENAS  BUENOS AIRES  BUENOS AIRES  2016  \n15307  PUNTARENAS      GARABITO      TARCOLES  2018  \n7670        LIMON        MATINA         BATAN  2016  \n21625  PUNTARENAS      GARABITO          JACO  2019  ",
      "text/html": "<div>\n<style scoped>\n    .dataframe tbody tr th:only-of-type {\n        vertical-align: middle;\n    }\n\n    .dataframe tbody tr th {\n        vertical-align: top;\n    }\n\n    .dataframe thead th {\n        text-align: right;\n    }\n</style>\n<table border=\"1\" class=\"dataframe\">\n  <thead>\n    <tr style=\"text-align: right;\">\n      <th></th>\n      <th>Delito</th>\n      <th>Subdelito</th>\n      <th>Fecha</th>\n      <th>Victima</th>\n      <th>Subvictima</th>\n      <th>Adulto</th>\n      <th>Genero</th>\n      <th>Nacionalidad</th>\n      <th>Provincia</th>\n      <th>Canton</th>\n      <th>Distrito</th>\n      <th>Ano</th>\n    </tr>\n  </thead>\n  <tbody>\n    <tr>\n      <th>14170</th>\n      <td>HURTO</td>\n      <td>POR DESCUIDO</td>\n      <td>2016-04-02</td>\n      <td>VEHICULO</td>\n      <td>AUTOMOVIL [VEHICULO]</td>\n      <td>Mayor de edad                                 ...</td>\n      <td>HOMBRE</td>\n      <td>COSTA RICA</td>\n      <td>GUANACASTE</td>\n      <td>LIBERIA</td>\n      <td>LIBERIA</td>\n      <td>2016</td>\n    </tr>\n    <tr>\n      <th>48262</th>\n      <td>ROBO</td>\n      <td>CORTA CANDADOS</td>\n      <td>2016-10-29</td>\n      <td>EDIFICACION</td>\n      <td>TALLER [EDIFICACION]</td>\n      <td>Mayor de edad                                 ...</td>\n      <td>HOMBRE</td>\n      <td>COSTA RICA</td>\n      <td>PUNTARENAS</td>\n      <td>BUENOS AIRES</td>\n      <td>BUENOS AIRES</td>\n      <td>2016</td>\n    </tr>\n    <tr>\n      <th>15307</th>\n      <td>ROBO</td>\n      <td>FORZADURA</td>\n      <td>2018-04-01</td>\n      <td>EDIFICACION</td>\n      <td>OTRO O INDETERMINADO [EDIFICACION]</td>\n      <td>Mayor de edad                                 ...</td>\n      <td>HOMBRE</td>\n      <td>COSTA RICA</td>\n      <td>PUNTARENAS</td>\n      <td>GARABITO</td>\n      <td>TARCOLES</td>\n      <td>2018</td>\n    </tr>\n    <tr>\n      <th>7670</th>\n      <td>HOMICIDIO</td>\n      <td>AJUSTE DE CUENTAS/VENGANZA</td>\n      <td>2016-02-20</td>\n      <td>PERSONA</td>\n      <td>PEATON [PERSONA]</td>\n      <td>Mayor de edad                                 ...</td>\n      <td>HOMBRE</td>\n      <td>COSTA RICA</td>\n      <td>LIMON</td>\n      <td>MATINA</td>\n      <td>BATAN</td>\n      <td>2016</td>\n    </tr>\n    <tr>\n      <th>21625</th>\n      <td>ROBO</td>\n      <td>OTRO O INDETERMINADO</td>\n      <td>2019-05-18</td>\n      <td>PERSONA</td>\n      <td>OTRO O INDETERMINADO [PERSONA]</td>\n      <td>Mayor de edad                                 ...</td>\n      <td>HOMBRE</td>\n      <td>COSTA RICA</td>\n      <td>PUNTARENAS</td>\n      <td>GARABITO</td>\n      <td>JACO</td>\n      <td>2019</td>\n    </tr>\n  </tbody>\n</table>\n</div>"
     },
     "execution_count": 76,
     "metadata": {},
     "output_type": "execute_result"
    }
   ],
   "source": [
    "police = pd.concat([police_15,police_16,police_17,police_18,police_19])\n",
    "police.sample(5)"
   ],
   "metadata": {
    "collapsed": false,
    "pycharm": {
     "name": "#%%\n"
    }
   }
  },
  {
   "cell_type": "markdown",
   "source": [
    "## Limpieza y Manipulacion de datos"
   ],
   "metadata": {
    "collapsed": false,
    "pycharm": {
     "name": "#%% md\n"
    }
   }
  },
  {
   "cell_type": "code",
   "execution_count": 77,
   "outputs": [],
   "source": [
    "# Cantones\n",
    "police.loc[police['Canton'] == 'CAï¿½AS','Canton'] = 'CAÑAS'\n",
    "police.loc[police['Canton'] == 'SARCHï¿½','Canton'] = 'SARCHI'\n",
    "\n",
    "# Distritos\n",
    "police.loc[police['Distrito'] == 'CAï¿½AS','Distrito'] = 'CAÑAS'\n",
    "police.loc[police['Distrito'] == 'CAï¿½AS DULCES','Distrito'] = 'CAÑAS DULCES'\n",
    "police.loc[police['Distrito'] == 'PEï¿½AS BLANCAS','Distrito'] = 'PEÑAS BLANCAS'\n",
    "police.loc[police['Distrito'] == 'REVENTAZï¿½N','Distrito'] = 'REVENTAZON'\n",
    "\n",
    "# Eliminar desconocido\n",
    "desconocidos = ((police['Canton'] == 'DESCONOCIDO') |\n",
    "                (police['Distrito'] == 'DESCONOCIDO') )\n",
    "police.drop(police[desconocidos].index, inplace=True)"
   ],
   "metadata": {
    "collapsed": false,
    "pycharm": {
     "name": "#%%\n"
    }
   }
  },
  {
   "cell_type": "code",
   "execution_count": 78,
   "outputs": [],
   "source": [
    "# Grecia --> Rio Cuarto\n",
    "police.loc[police['Distrito'] == 'RIO CUARTO','Canton'] = 'RIO CUARTO'\n"
   ],
   "metadata": {
    "collapsed": false,
    "pycharm": {
     "name": "#%%\n"
    }
   }
  },
  {
   "cell_type": "code",
   "execution_count": 79,
   "outputs": [],
   "source": [
    "police_grouped = police.groupby(['Delito', 'Ano', 'Provincia', 'Canton', 'Distrito']).size().to_frame('Count').reset_index()"
   ],
   "metadata": {
    "collapsed": false,
    "pycharm": {
     "name": "#%%\n"
    }
   }
  },
  {
   "cell_type": "code",
   "execution_count": 92,
   "outputs": [
    {
     "data": {
      "text/plain": "  Provincia    Canton  Distrito  Poblacion\n0  San Jose  San Jose       NaN     339581\n1  San Jose  San Jose    Carmen       3070\n2  San Jose  San Jose    Merced      14846\n3  San Jose  San Jose  Hospital      23099\n4  San Jose  San Jose  Catedral      15382",
      "text/html": "<div>\n<style scoped>\n    .dataframe tbody tr th:only-of-type {\n        vertical-align: middle;\n    }\n\n    .dataframe tbody tr th {\n        vertical-align: top;\n    }\n\n    .dataframe thead th {\n        text-align: right;\n    }\n</style>\n<table border=\"1\" class=\"dataframe\">\n  <thead>\n    <tr style=\"text-align: right;\">\n      <th></th>\n      <th>Provincia</th>\n      <th>Canton</th>\n      <th>Distrito</th>\n      <th>Poblacion</th>\n    </tr>\n  </thead>\n  <tbody>\n    <tr>\n      <th>0</th>\n      <td>San Jose</td>\n      <td>San Jose</td>\n      <td>NaN</td>\n      <td>339581</td>\n    </tr>\n    <tr>\n      <th>1</th>\n      <td>San Jose</td>\n      <td>San Jose</td>\n      <td>Carmen</td>\n      <td>3070</td>\n    </tr>\n    <tr>\n      <th>2</th>\n      <td>San Jose</td>\n      <td>San Jose</td>\n      <td>Merced</td>\n      <td>14846</td>\n    </tr>\n    <tr>\n      <th>3</th>\n      <td>San Jose</td>\n      <td>San Jose</td>\n      <td>Hospital</td>\n      <td>23099</td>\n    </tr>\n    <tr>\n      <th>4</th>\n      <td>San Jose</td>\n      <td>San Jose</td>\n      <td>Catedral</td>\n      <td>15382</td>\n    </tr>\n  </tbody>\n</table>\n</div>"
     },
     "execution_count": 92,
     "metadata": {},
     "output_type": "execute_result"
    }
   ],
   "source": [
    "poblaciones = pd.read_csv('./Data/Poblaciones.csv', encoding='latin1')\n",
    "poblaciones.head()"
   ],
   "metadata": {
    "collapsed": false,
    "pycharm": {
     "name": "#%%\n"
    }
   }
  },
  {
   "cell_type": "code",
   "execution_count": 81,
   "outputs": [],
   "source": [
    "poblaciones['Provincia'] = poblaciones['Provincia'].str.upper()\n",
    "poblaciones['Canton'] = poblaciones['Canton'].str.upper()\n",
    "poblaciones['Distrito'] = poblaciones['Distrito'].str.upper()"
   ],
   "metadata": {
    "collapsed": false,
    "pycharm": {
     "name": "#%%\n"
    }
   }
  },
  {
   "cell_type": "code",
   "execution_count": 82,
   "outputs": [
    {
     "data": {
      "text/plain": "   Delito   Ano Provincia    Canton      Distrito  Count  Poblacion\n0  ASALTO  2015  ALAJUELA  ALAJUELA      ALAJUELA    442    47477.0\n1  ASALTO  2015  ALAJUELA  ALAJUELA      CARRIZAL      5     8328.0\n2  ASALTO  2015  ALAJUELA  ALAJUELA  DESAMPARADOS     42    31261.0\n3  ASALTO  2015  ALAJUELA  ALAJUELA       GUACIMA     34    24598.0\n4  ASALTO  2015  ALAJUELA  ALAJUELA     LA GARITA     12     8894.0",
      "text/html": "<div>\n<style scoped>\n    .dataframe tbody tr th:only-of-type {\n        vertical-align: middle;\n    }\n\n    .dataframe tbody tr th {\n        vertical-align: top;\n    }\n\n    .dataframe thead th {\n        text-align: right;\n    }\n</style>\n<table border=\"1\" class=\"dataframe\">\n  <thead>\n    <tr style=\"text-align: right;\">\n      <th></th>\n      <th>Delito</th>\n      <th>Ano</th>\n      <th>Provincia</th>\n      <th>Canton</th>\n      <th>Distrito</th>\n      <th>Count</th>\n      <th>Poblacion</th>\n    </tr>\n  </thead>\n  <tbody>\n    <tr>\n      <th>0</th>\n      <td>ASALTO</td>\n      <td>2015</td>\n      <td>ALAJUELA</td>\n      <td>ALAJUELA</td>\n      <td>ALAJUELA</td>\n      <td>442</td>\n      <td>47477.0</td>\n    </tr>\n    <tr>\n      <th>1</th>\n      <td>ASALTO</td>\n      <td>2015</td>\n      <td>ALAJUELA</td>\n      <td>ALAJUELA</td>\n      <td>CARRIZAL</td>\n      <td>5</td>\n      <td>8328.0</td>\n    </tr>\n    <tr>\n      <th>2</th>\n      <td>ASALTO</td>\n      <td>2015</td>\n      <td>ALAJUELA</td>\n      <td>ALAJUELA</td>\n      <td>DESAMPARADOS</td>\n      <td>42</td>\n      <td>31261.0</td>\n    </tr>\n    <tr>\n      <th>3</th>\n      <td>ASALTO</td>\n      <td>2015</td>\n      <td>ALAJUELA</td>\n      <td>ALAJUELA</td>\n      <td>GUACIMA</td>\n      <td>34</td>\n      <td>24598.0</td>\n    </tr>\n    <tr>\n      <th>4</th>\n      <td>ASALTO</td>\n      <td>2015</td>\n      <td>ALAJUELA</td>\n      <td>ALAJUELA</td>\n      <td>LA GARITA</td>\n      <td>12</td>\n      <td>8894.0</td>\n    </tr>\n  </tbody>\n</table>\n</div>"
     },
     "execution_count": 82,
     "metadata": {},
     "output_type": "execute_result"
    }
   ],
   "source": [
    "police_final = police_grouped.merge(poblaciones, how='left',\n",
    "                                    on=['Provincia','Canton', 'Distrito'])\n",
    "police_final.head()\n"
   ],
   "metadata": {
    "collapsed": false,
    "pycharm": {
     "name": "#%%\n"
    }
   }
  },
  {
   "cell_type": "code",
   "execution_count": 83,
   "outputs": [],
   "source": [
    "# Imprimir datos NA\n",
    "\n",
    "# police_final[police_final[\"Poblacion\"].isna()].to_excel('prueba.xlsx')"
   ],
   "metadata": {
    "collapsed": false,
    "pycharm": {
     "name": "#%%\n"
    }
   }
  },
  {
   "cell_type": "code",
   "execution_count": 93,
   "outputs": [],
   "source": [
    "police_final.dropna(inplace = True)\n",
    "police_final['Crimenes_1000'] = round((1000 * police_final['Count'])/police_final['Poblacion'],2)\n",
    "police_final.to_csv('./Data/police_final.csv')"
   ],
   "metadata": {
    "collapsed": false,
    "pycharm": {
     "name": "#%%\n"
    }
   }
  },
  {
   "cell_type": "markdown",
   "source": [
    "## Analisis Exploratorio\n"
   ],
   "metadata": {
    "collapsed": false,
    "pycharm": {
     "name": "#%% md\n"
    }
   }
  },
  {
   "cell_type": "markdown",
   "source": [
    "### Provincias"
   ],
   "metadata": {
    "collapsed": false,
    "pycharm": {
     "name": "#%% md\n"
    }
   }
  },
  {
   "cell_type": "code",
   "execution_count": 85,
   "outputs": [
    {
     "data": {
      "text/plain": "    Provincia   Count  Poblacion\n0    ALAJUELA   44546   981681.0\n1     CARTAGO   19292   529817.0\n2  GUANACASTE   23033   377136.0\n3     HEREDIA   26047   505052.0\n4       LIMON   25998   444447.0\n5  PUNTARENAS   34896   480548.0\n6    SAN JOSE  106280  1621393.0",
      "text/html": "<div>\n<style scoped>\n    .dataframe tbody tr th:only-of-type {\n        vertical-align: middle;\n    }\n\n    .dataframe tbody tr th {\n        vertical-align: top;\n    }\n\n    .dataframe thead th {\n        text-align: right;\n    }\n</style>\n<table border=\"1\" class=\"dataframe\">\n  <thead>\n    <tr style=\"text-align: right;\">\n      <th></th>\n      <th>Provincia</th>\n      <th>Count</th>\n      <th>Poblacion</th>\n    </tr>\n  </thead>\n  <tbody>\n    <tr>\n      <th>0</th>\n      <td>ALAJUELA</td>\n      <td>44546</td>\n      <td>981681.0</td>\n    </tr>\n    <tr>\n      <th>1</th>\n      <td>CARTAGO</td>\n      <td>19292</td>\n      <td>529817.0</td>\n    </tr>\n    <tr>\n      <th>2</th>\n      <td>GUANACASTE</td>\n      <td>23033</td>\n      <td>377136.0</td>\n    </tr>\n    <tr>\n      <th>3</th>\n      <td>HEREDIA</td>\n      <td>26047</td>\n      <td>505052.0</td>\n    </tr>\n    <tr>\n      <th>4</th>\n      <td>LIMON</td>\n      <td>25998</td>\n      <td>444447.0</td>\n    </tr>\n    <tr>\n      <th>5</th>\n      <td>PUNTARENAS</td>\n      <td>34896</td>\n      <td>480548.0</td>\n    </tr>\n    <tr>\n      <th>6</th>\n      <td>SAN JOSE</td>\n      <td>106280</td>\n      <td>1621393.0</td>\n    </tr>\n  </tbody>\n</table>\n</div>"
     },
     "execution_count": 85,
     "metadata": {},
     "output_type": "execute_result"
    }
   ],
   "source": [
    "prov_pob = poblaciones.groupby('Provincia')['Poblacion'].sum().tolist()\n",
    "\n",
    "info_provincia = police_final.groupby('Provincia')['Count'].sum()\n",
    "info_provincia = info_provincia.reset_index()\n",
    "info_provincia['Poblacion'] = prov_pob\n",
    "info_provincia['Poblacion'] = info_provincia['Poblacion']/2\n",
    "info_provincia"
   ],
   "metadata": {
    "collapsed": false,
    "pycharm": {
     "name": "#%%\n"
    }
   }
  },
  {
   "cell_type": "code",
   "execution_count": 86,
   "outputs": [
    {
     "data": {
      "text/plain": "    Provincia   Count  Poblacion  Crimenes_1000\n1     CARTAGO   19292   529817.0          36.41\n0    ALAJUELA   44546   981681.0          45.38\n3     HEREDIA   26047   505052.0          51.57\n4       LIMON   25998   444447.0          58.50\n2  GUANACASTE   23033   377136.0          61.07\n6    SAN JOSE  106280  1621393.0          65.55\n5  PUNTARENAS   34896   480548.0          72.62",
      "text/html": "<div>\n<style scoped>\n    .dataframe tbody tr th:only-of-type {\n        vertical-align: middle;\n    }\n\n    .dataframe tbody tr th {\n        vertical-align: top;\n    }\n\n    .dataframe thead th {\n        text-align: right;\n    }\n</style>\n<table border=\"1\" class=\"dataframe\">\n  <thead>\n    <tr style=\"text-align: right;\">\n      <th></th>\n      <th>Provincia</th>\n      <th>Count</th>\n      <th>Poblacion</th>\n      <th>Crimenes_1000</th>\n    </tr>\n  </thead>\n  <tbody>\n    <tr>\n      <th>1</th>\n      <td>CARTAGO</td>\n      <td>19292</td>\n      <td>529817.0</td>\n      <td>36.41</td>\n    </tr>\n    <tr>\n      <th>0</th>\n      <td>ALAJUELA</td>\n      <td>44546</td>\n      <td>981681.0</td>\n      <td>45.38</td>\n    </tr>\n    <tr>\n      <th>3</th>\n      <td>HEREDIA</td>\n      <td>26047</td>\n      <td>505052.0</td>\n      <td>51.57</td>\n    </tr>\n    <tr>\n      <th>4</th>\n      <td>LIMON</td>\n      <td>25998</td>\n      <td>444447.0</td>\n      <td>58.50</td>\n    </tr>\n    <tr>\n      <th>2</th>\n      <td>GUANACASTE</td>\n      <td>23033</td>\n      <td>377136.0</td>\n      <td>61.07</td>\n    </tr>\n    <tr>\n      <th>6</th>\n      <td>SAN JOSE</td>\n      <td>106280</td>\n      <td>1621393.0</td>\n      <td>65.55</td>\n    </tr>\n    <tr>\n      <th>5</th>\n      <td>PUNTARENAS</td>\n      <td>34896</td>\n      <td>480548.0</td>\n      <td>72.62</td>\n    </tr>\n  </tbody>\n</table>\n</div>"
     },
     "execution_count": 86,
     "metadata": {},
     "output_type": "execute_result"
    }
   ],
   "source": [
    "info_provincia['Crimenes_1000'] = round((1000 * info_provincia['Count'])/info_provincia['Poblacion'],2)\n",
    "info_provincia.sort_values('Crimenes_1000')"
   ],
   "metadata": {
    "collapsed": false,
    "pycharm": {
     "name": "#%%\n"
    }
   }
  },
  {
   "cell_type": "code",
   "execution_count": 87,
   "outputs": [
    {
     "data": {
      "text/plain": "Ano   Provincia   2015   2016   2017   2018   2019  Poblacion\n0      ALAJUELA   8851   9086   8893   9308   8408   981681.0\n1       CARTAGO   3954   3642   3671   4173   3852   529817.0\n2    GUANACASTE   4889   4486   4695   4584   4379   377136.0\n3       HEREDIA   4959   5398   5372   5565   4753   505052.0\n4         LIMON   5035   5227   5008   5366   5362   444447.0\n5    PUNTARENAS   6811   7403   6988   7034   6660   480548.0\n6      SAN JOSE  18069  20911  22352  23013  21935  1621393.0",
      "text/html": "<div>\n<style scoped>\n    .dataframe tbody tr th:only-of-type {\n        vertical-align: middle;\n    }\n\n    .dataframe tbody tr th {\n        vertical-align: top;\n    }\n\n    .dataframe thead th {\n        text-align: right;\n    }\n</style>\n<table border=\"1\" class=\"dataframe\">\n  <thead>\n    <tr style=\"text-align: right;\">\n      <th>Ano</th>\n      <th>Provincia</th>\n      <th>2015</th>\n      <th>2016</th>\n      <th>2017</th>\n      <th>2018</th>\n      <th>2019</th>\n      <th>Poblacion</th>\n    </tr>\n  </thead>\n  <tbody>\n    <tr>\n      <th>0</th>\n      <td>ALAJUELA</td>\n      <td>8851</td>\n      <td>9086</td>\n      <td>8893</td>\n      <td>9308</td>\n      <td>8408</td>\n      <td>981681.0</td>\n    </tr>\n    <tr>\n      <th>1</th>\n      <td>CARTAGO</td>\n      <td>3954</td>\n      <td>3642</td>\n      <td>3671</td>\n      <td>4173</td>\n      <td>3852</td>\n      <td>529817.0</td>\n    </tr>\n    <tr>\n      <th>2</th>\n      <td>GUANACASTE</td>\n      <td>4889</td>\n      <td>4486</td>\n      <td>4695</td>\n      <td>4584</td>\n      <td>4379</td>\n      <td>377136.0</td>\n    </tr>\n    <tr>\n      <th>3</th>\n      <td>HEREDIA</td>\n      <td>4959</td>\n      <td>5398</td>\n      <td>5372</td>\n      <td>5565</td>\n      <td>4753</td>\n      <td>505052.0</td>\n    </tr>\n    <tr>\n      <th>4</th>\n      <td>LIMON</td>\n      <td>5035</td>\n      <td>5227</td>\n      <td>5008</td>\n      <td>5366</td>\n      <td>5362</td>\n      <td>444447.0</td>\n    </tr>\n    <tr>\n      <th>5</th>\n      <td>PUNTARENAS</td>\n      <td>6811</td>\n      <td>7403</td>\n      <td>6988</td>\n      <td>7034</td>\n      <td>6660</td>\n      <td>480548.0</td>\n    </tr>\n    <tr>\n      <th>6</th>\n      <td>SAN JOSE</td>\n      <td>18069</td>\n      <td>20911</td>\n      <td>22352</td>\n      <td>23013</td>\n      <td>21935</td>\n      <td>1621393.0</td>\n    </tr>\n  </tbody>\n</table>\n</div>"
     },
     "execution_count": 87,
     "metadata": {},
     "output_type": "execute_result"
    }
   ],
   "source": [
    "info_provincia_ano = police_final.pivot_table(values= 'Count',\n",
    "                                              index= 'Provincia',\n",
    "                                              columns= 'Ano',\n",
    "                                              aggfunc= 'sum')\n",
    "info_provincia_ano = info_provincia_ano.reset_index()\n",
    "info_provincia_ano['Poblacion'] = prov_pob\n",
    "info_provincia_ano['Poblacion'] = info_provincia_ano['Poblacion']/2\n",
    "info_provincia_ano"
   ],
   "metadata": {
    "collapsed": false,
    "pycharm": {
     "name": "#%%\n"
    }
   }
  },
  {
   "cell_type": "code",
   "execution_count": 88,
   "outputs": [
    {
     "data": {
      "text/plain": "Ano   Provincia   2015   2016   2017   2018   2019  Poblacion  \\\n0      ALAJUELA   8851   9086   8893   9308   8408   981681.0   \n1       CARTAGO   3954   3642   3671   4173   3852   529817.0   \n2    GUANACASTE   4889   4486   4695   4584   4379   377136.0   \n3       HEREDIA   4959   5398   5372   5565   4753   505052.0   \n4         LIMON   5035   5227   5008   5366   5362   444447.0   \n5    PUNTARENAS   6811   7403   6988   7034   6660   480548.0   \n6      SAN JOSE  18069  20911  22352  23013  21935  1621393.0   \n\nAno  Crimenes_1000_2015  Crimenes_1000_2019  \n0                  9.02                8.56  \n1                  7.46                7.27  \n2                 12.96               11.61  \n3                  9.82                9.41  \n4                 11.33               12.06  \n5                 14.17               13.86  \n6                 11.14               13.53  ",
      "text/html": "<div>\n<style scoped>\n    .dataframe tbody tr th:only-of-type {\n        vertical-align: middle;\n    }\n\n    .dataframe tbody tr th {\n        vertical-align: top;\n    }\n\n    .dataframe thead th {\n        text-align: right;\n    }\n</style>\n<table border=\"1\" class=\"dataframe\">\n  <thead>\n    <tr style=\"text-align: right;\">\n      <th>Ano</th>\n      <th>Provincia</th>\n      <th>2015</th>\n      <th>2016</th>\n      <th>2017</th>\n      <th>2018</th>\n      <th>2019</th>\n      <th>Poblacion</th>\n      <th>Crimenes_1000_2015</th>\n      <th>Crimenes_1000_2019</th>\n    </tr>\n  </thead>\n  <tbody>\n    <tr>\n      <th>0</th>\n      <td>ALAJUELA</td>\n      <td>8851</td>\n      <td>9086</td>\n      <td>8893</td>\n      <td>9308</td>\n      <td>8408</td>\n      <td>981681.0</td>\n      <td>9.02</td>\n      <td>8.56</td>\n    </tr>\n    <tr>\n      <th>1</th>\n      <td>CARTAGO</td>\n      <td>3954</td>\n      <td>3642</td>\n      <td>3671</td>\n      <td>4173</td>\n      <td>3852</td>\n      <td>529817.0</td>\n      <td>7.46</td>\n      <td>7.27</td>\n    </tr>\n    <tr>\n      <th>2</th>\n      <td>GUANACASTE</td>\n      <td>4889</td>\n      <td>4486</td>\n      <td>4695</td>\n      <td>4584</td>\n      <td>4379</td>\n      <td>377136.0</td>\n      <td>12.96</td>\n      <td>11.61</td>\n    </tr>\n    <tr>\n      <th>3</th>\n      <td>HEREDIA</td>\n      <td>4959</td>\n      <td>5398</td>\n      <td>5372</td>\n      <td>5565</td>\n      <td>4753</td>\n      <td>505052.0</td>\n      <td>9.82</td>\n      <td>9.41</td>\n    </tr>\n    <tr>\n      <th>4</th>\n      <td>LIMON</td>\n      <td>5035</td>\n      <td>5227</td>\n      <td>5008</td>\n      <td>5366</td>\n      <td>5362</td>\n      <td>444447.0</td>\n      <td>11.33</td>\n      <td>12.06</td>\n    </tr>\n    <tr>\n      <th>5</th>\n      <td>PUNTARENAS</td>\n      <td>6811</td>\n      <td>7403</td>\n      <td>6988</td>\n      <td>7034</td>\n      <td>6660</td>\n      <td>480548.0</td>\n      <td>14.17</td>\n      <td>13.86</td>\n    </tr>\n    <tr>\n      <th>6</th>\n      <td>SAN JOSE</td>\n      <td>18069</td>\n      <td>20911</td>\n      <td>22352</td>\n      <td>23013</td>\n      <td>21935</td>\n      <td>1621393.0</td>\n      <td>11.14</td>\n      <td>13.53</td>\n    </tr>\n  </tbody>\n</table>\n</div>"
     },
     "execution_count": 88,
     "metadata": {},
     "output_type": "execute_result"
    }
   ],
   "source": [
    "info_provincia_ano['Crimenes_1000_2015'] = round((1000 * info_provincia_ano[2015])/info_provincia_ano['Poblacion'],2)\n",
    "info_provincia_ano['Crimenes_1000_2019'] = round((1000 * info_provincia_ano[2019])/info_provincia_ano['Poblacion'],2)\n",
    "info_provincia_ano"
   ],
   "metadata": {
    "collapsed": false,
    "pycharm": {
     "name": "#%%\n"
    }
   }
  },
  {
   "cell_type": "code",
   "execution_count": 89,
   "outputs": [
    {
     "data": {
      "text/plain": "Ano   Provincia   2015   2016   2017   2018   2019  Poblacion  \\\n0      ALAJUELA   8851   9086   8893   9308   8408   981681.0   \n1       CARTAGO   3954   3642   3671   4173   3852   529817.0   \n2    GUANACASTE   4889   4486   4695   4584   4379   377136.0   \n3       HEREDIA   4959   5398   5372   5565   4753   505052.0   \n4         LIMON   5035   5227   5008   5366   5362   444447.0   \n5    PUNTARENAS   6811   7403   6988   7034   6660   480548.0   \n6      SAN JOSE  18069  20911  22352  23013  21935  1621393.0   \n\nAno  Crimenes_1000_2015  Crimenes_1000_2019       Tasa  \n0                  9.02                8.56  -5.099778  \n1                  7.46                7.27  -2.546917  \n2                 12.96               11.61 -10.416667  \n3                  9.82                9.41  -4.175153  \n4                 11.33               12.06   6.443071  \n5                 14.17               13.86  -2.187721  \n6                 11.14               13.53  21.454219  ",
      "text/html": "<div>\n<style scoped>\n    .dataframe tbody tr th:only-of-type {\n        vertical-align: middle;\n    }\n\n    .dataframe tbody tr th {\n        vertical-align: top;\n    }\n\n    .dataframe thead th {\n        text-align: right;\n    }\n</style>\n<table border=\"1\" class=\"dataframe\">\n  <thead>\n    <tr style=\"text-align: right;\">\n      <th>Ano</th>\n      <th>Provincia</th>\n      <th>2015</th>\n      <th>2016</th>\n      <th>2017</th>\n      <th>2018</th>\n      <th>2019</th>\n      <th>Poblacion</th>\n      <th>Crimenes_1000_2015</th>\n      <th>Crimenes_1000_2019</th>\n      <th>Tasa</th>\n    </tr>\n  </thead>\n  <tbody>\n    <tr>\n      <th>0</th>\n      <td>ALAJUELA</td>\n      <td>8851</td>\n      <td>9086</td>\n      <td>8893</td>\n      <td>9308</td>\n      <td>8408</td>\n      <td>981681.0</td>\n      <td>9.02</td>\n      <td>8.56</td>\n      <td>-5.099778</td>\n    </tr>\n    <tr>\n      <th>1</th>\n      <td>CARTAGO</td>\n      <td>3954</td>\n      <td>3642</td>\n      <td>3671</td>\n      <td>4173</td>\n      <td>3852</td>\n      <td>529817.0</td>\n      <td>7.46</td>\n      <td>7.27</td>\n      <td>-2.546917</td>\n    </tr>\n    <tr>\n      <th>2</th>\n      <td>GUANACASTE</td>\n      <td>4889</td>\n      <td>4486</td>\n      <td>4695</td>\n      <td>4584</td>\n      <td>4379</td>\n      <td>377136.0</td>\n      <td>12.96</td>\n      <td>11.61</td>\n      <td>-10.416667</td>\n    </tr>\n    <tr>\n      <th>3</th>\n      <td>HEREDIA</td>\n      <td>4959</td>\n      <td>5398</td>\n      <td>5372</td>\n      <td>5565</td>\n      <td>4753</td>\n      <td>505052.0</td>\n      <td>9.82</td>\n      <td>9.41</td>\n      <td>-4.175153</td>\n    </tr>\n    <tr>\n      <th>4</th>\n      <td>LIMON</td>\n      <td>5035</td>\n      <td>5227</td>\n      <td>5008</td>\n      <td>5366</td>\n      <td>5362</td>\n      <td>444447.0</td>\n      <td>11.33</td>\n      <td>12.06</td>\n      <td>6.443071</td>\n    </tr>\n    <tr>\n      <th>5</th>\n      <td>PUNTARENAS</td>\n      <td>6811</td>\n      <td>7403</td>\n      <td>6988</td>\n      <td>7034</td>\n      <td>6660</td>\n      <td>480548.0</td>\n      <td>14.17</td>\n      <td>13.86</td>\n      <td>-2.187721</td>\n    </tr>\n    <tr>\n      <th>6</th>\n      <td>SAN JOSE</td>\n      <td>18069</td>\n      <td>20911</td>\n      <td>22352</td>\n      <td>23013</td>\n      <td>21935</td>\n      <td>1621393.0</td>\n      <td>11.14</td>\n      <td>13.53</td>\n      <td>21.454219</td>\n    </tr>\n  </tbody>\n</table>\n</div>"
     },
     "execution_count": 89,
     "metadata": {},
     "output_type": "execute_result"
    }
   ],
   "source": [
    "info_provincia_ano['Tasa'] = (info_provincia_ano['Crimenes_1000_2019']/info_provincia_ano['Crimenes_1000_2015']-1)*100\n",
    "info_provincia_ano"
   ],
   "metadata": {
    "collapsed": false,
    "pycharm": {
     "name": "#%%\n"
    }
   }
  },
  {
   "cell_type": "code",
   "execution_count": 91,
   "outputs": [],
   "source": [
    "prov_delito_ano = police_final.pivot_table(values= 'Count',\n",
    "                                              index= ['Provincia','Delito'],\n",
    "                                              columns= 'Ano',\n",
    "                                              aggfunc= 'sum')\n",
    "prov_delito_ano.reset_index(inplace=True)"
   ],
   "metadata": {
    "collapsed": false,
    "pycharm": {
     "name": "#%%\n"
    }
   }
  },
  {
   "cell_type": "code",
   "execution_count": null,
   "outputs": [],
   "source": [
    "tabla_poblaciones = poblaciones.groupby('Provincia')['Poblacion'].sum().reset_index()"
   ],
   "metadata": {
    "collapsed": false,
    "pycharm": {
     "name": "#%%\n"
    }
   }
  },
  {
   "cell_type": "code",
   "execution_count": null,
   "outputs": [],
   "source": [
    "prov_delito_ano = prov_delito_ano.join(tabla_poblaciones.set_index('Provincia'), on='Provincia')"
   ],
   "metadata": {
    "collapsed": false,
    "pycharm": {
     "name": "#%%\n"
    }
   }
  },
  {
   "cell_type": "code",
   "execution_count": null,
   "outputs": [],
   "source": [
    "prov_delito_ano['Poblacion'] = prov_delito_ano['Poblacion']/2"
   ],
   "metadata": {
    "collapsed": false,
    "pycharm": {
     "name": "#%%\n"
    }
   }
  },
  {
   "cell_type": "code",
   "execution_count": null,
   "outputs": [],
   "source": [
    "prov_delito_ano['Crimenes_1000_2015'] = round((1000 * prov_delito_ano[2015])/prov_delito_ano['Poblacion'],6)\n",
    "prov_delito_ano['Crimenes_1000_2019'] = round((1000 * prov_delito_ano[2019])/prov_delito_ano['Poblacion'],6)\n",
    "prov_delito_ano['Tasa'] = (prov_delito_ano['Crimenes_1000_2019']/prov_delito_ano['Crimenes_1000_2015']-1)*100"
   ],
   "metadata": {
    "collapsed": false,
    "pycharm": {
     "name": "#%%\n"
    }
   }
  },
  {
   "cell_type": "code",
   "execution_count": null,
   "outputs": [],
   "source": [
    "prov_delito_ano[prov_delito_ano['Provincia'] == 'SAN JOSE'].sort_values('Tasa', ascending=False).head(50)\n"
   ],
   "metadata": {
    "collapsed": false,
    "pycharm": {
     "name": "#%%\n"
    }
   }
  },
  {
   "cell_type": "markdown",
   "source": [
    "### Cantones\n"
   ],
   "metadata": {
    "collapsed": false,
    "pycharm": {
     "name": "#%% md\n"
    }
   }
  },
  {
   "cell_type": "code",
   "execution_count": null,
   "outputs": [],
   "source": [
    "cant_pob = poblaciones.groupby('Canton')['Poblacion'].sum().reset_index()\n",
    "cant_pob"
   ],
   "metadata": {
    "collapsed": false,
    "pycharm": {
     "name": "#%%\n"
    }
   }
  },
  {
   "cell_type": "code",
   "execution_count": null,
   "outputs": [],
   "source": [
    "info_canton = police_final.pivot_table(values= 'Count',\n",
    "                                      index= ['Provincia','Canton'],\n",
    "                                      columns= 'Ano',\n",
    "                                      aggfunc= 'sum')\n",
    "info_canton.reset_index(inplace=True)\n",
    "\n",
    "info_canton = info_canton.join(cant_pob.set_index('Canton'), on='Canton')\n",
    "info_canton['Poblacion'] = info_canton['Poblacion']/2\n",
    "\n",
    "media_poblacional = info_canton.loc[:,[2015,2016,2017,2018,2019]].mean(axis=1)\n",
    "info_canton['Media'] = (1000* media_poblacional)/info_canton['Poblacion']\n",
    "\n",
    "info_canton"
   ],
   "metadata": {
    "collapsed": false,
    "pycharm": {
     "name": "#%%\n"
    }
   }
  },
  {
   "cell_type": "code",
   "execution_count": 99,
   "outputs": [
    {
     "data": {
      "text/plain": "   Provincia               Canton  2015  2016  2017  2018  2019  Poblacion  \\\n0   ALAJUELA             ALAJUELA  3135  3291  3535  3711  3071   302074.0   \n1   ALAJUELA               ATENAS   197   201   208   259   225    28424.0   \n2   ALAJUELA               GRECIA   462   524   478   529   450    75383.0   \n3   ALAJUELA              GUATUSO   147   114    83   110   130    18541.0   \n4   ALAJUELA           LOS CHILES   273   236   289   280   352    31546.0   \n..       ...                  ...   ...   ...   ...   ...   ...        ...   \n77  SAN JOSE            SANTA ANA   446   573   456   542   570    58159.0   \n78  SAN JOSE              TARRAZU    82    75    56    69    92    18102.0   \n79  SAN JOSE                TIBAS   749   831   866   912   659    82889.0   \n80  SAN JOSE           TURRUBARES    33    48    28    42    53     6619.0   \n81  SAN JOSE  VASQUEZ DE CORONADO   357   414   445   553   458    69500.0   \n\n        Media  Crimenes_1000_2015  Crimenes_1000_2019       Tasa  \n0   11.085363               10.38               10.17  -2.023121  \n1    7.669575                6.93                7.92  14.285714  \n2    6.481567                6.13                5.97  -2.610114  \n3    6.299552                7.93                7.01 -11.601513  \n4    9.066126                8.65               11.16  29.017341  \n..        ...                 ...                 ...        ...  \n77   8.896302                7.67                9.80  27.770535  \n78   4.132140                4.53                5.08  12.141280  \n79   9.692480                9.04                7.95 -12.057522  \n80   6.164073                4.99                8.01  60.521042  \n81   6.408633                5.14                6.59  28.210117  \n\n[82 rows x 12 columns]",
      "text/html": "<div>\n<style scoped>\n    .dataframe tbody tr th:only-of-type {\n        vertical-align: middle;\n    }\n\n    .dataframe tbody tr th {\n        vertical-align: top;\n    }\n\n    .dataframe thead th {\n        text-align: right;\n    }\n</style>\n<table border=\"1\" class=\"dataframe\">\n  <thead>\n    <tr style=\"text-align: right;\">\n      <th></th>\n      <th>Provincia</th>\n      <th>Canton</th>\n      <th>2015</th>\n      <th>2016</th>\n      <th>2017</th>\n      <th>2018</th>\n      <th>2019</th>\n      <th>Poblacion</th>\n      <th>Media</th>\n      <th>Crimenes_1000_2015</th>\n      <th>Crimenes_1000_2019</th>\n      <th>Tasa</th>\n    </tr>\n  </thead>\n  <tbody>\n    <tr>\n      <th>0</th>\n      <td>ALAJUELA</td>\n      <td>ALAJUELA</td>\n      <td>3135</td>\n      <td>3291</td>\n      <td>3535</td>\n      <td>3711</td>\n      <td>3071</td>\n      <td>302074.0</td>\n      <td>11.085363</td>\n      <td>10.38</td>\n      <td>10.17</td>\n      <td>-2.023121</td>\n    </tr>\n    <tr>\n      <th>1</th>\n      <td>ALAJUELA</td>\n      <td>ATENAS</td>\n      <td>197</td>\n      <td>201</td>\n      <td>208</td>\n      <td>259</td>\n      <td>225</td>\n      <td>28424.0</td>\n      <td>7.669575</td>\n      <td>6.93</td>\n      <td>7.92</td>\n      <td>14.285714</td>\n    </tr>\n    <tr>\n      <th>2</th>\n      <td>ALAJUELA</td>\n      <td>GRECIA</td>\n      <td>462</td>\n      <td>524</td>\n      <td>478</td>\n      <td>529</td>\n      <td>450</td>\n      <td>75383.0</td>\n      <td>6.481567</td>\n      <td>6.13</td>\n      <td>5.97</td>\n      <td>-2.610114</td>\n    </tr>\n    <tr>\n      <th>3</th>\n      <td>ALAJUELA</td>\n      <td>GUATUSO</td>\n      <td>147</td>\n      <td>114</td>\n      <td>83</td>\n      <td>110</td>\n      <td>130</td>\n      <td>18541.0</td>\n      <td>6.299552</td>\n      <td>7.93</td>\n      <td>7.01</td>\n      <td>-11.601513</td>\n    </tr>\n    <tr>\n      <th>4</th>\n      <td>ALAJUELA</td>\n      <td>LOS CHILES</td>\n      <td>273</td>\n      <td>236</td>\n      <td>289</td>\n      <td>280</td>\n      <td>352</td>\n      <td>31546.0</td>\n      <td>9.066126</td>\n      <td>8.65</td>\n      <td>11.16</td>\n      <td>29.017341</td>\n    </tr>\n    <tr>\n      <th>...</th>\n      <td>...</td>\n      <td>...</td>\n      <td>...</td>\n      <td>...</td>\n      <td>...</td>\n      <td>...</td>\n      <td>...</td>\n      <td>...</td>\n      <td>...</td>\n      <td>...</td>\n      <td>...</td>\n      <td>...</td>\n    </tr>\n    <tr>\n      <th>77</th>\n      <td>SAN JOSE</td>\n      <td>SANTA ANA</td>\n      <td>446</td>\n      <td>573</td>\n      <td>456</td>\n      <td>542</td>\n      <td>570</td>\n      <td>58159.0</td>\n      <td>8.896302</td>\n      <td>7.67</td>\n      <td>9.80</td>\n      <td>27.770535</td>\n    </tr>\n    <tr>\n      <th>78</th>\n      <td>SAN JOSE</td>\n      <td>TARRAZU</td>\n      <td>82</td>\n      <td>75</td>\n      <td>56</td>\n      <td>69</td>\n      <td>92</td>\n      <td>18102.0</td>\n      <td>4.132140</td>\n      <td>4.53</td>\n      <td>5.08</td>\n      <td>12.141280</td>\n    </tr>\n    <tr>\n      <th>79</th>\n      <td>SAN JOSE</td>\n      <td>TIBAS</td>\n      <td>749</td>\n      <td>831</td>\n      <td>866</td>\n      <td>912</td>\n      <td>659</td>\n      <td>82889.0</td>\n      <td>9.692480</td>\n      <td>9.04</td>\n      <td>7.95</td>\n      <td>-12.057522</td>\n    </tr>\n    <tr>\n      <th>80</th>\n      <td>SAN JOSE</td>\n      <td>TURRUBARES</td>\n      <td>33</td>\n      <td>48</td>\n      <td>28</td>\n      <td>42</td>\n      <td>53</td>\n      <td>6619.0</td>\n      <td>6.164073</td>\n      <td>4.99</td>\n      <td>8.01</td>\n      <td>60.521042</td>\n    </tr>\n    <tr>\n      <th>81</th>\n      <td>SAN JOSE</td>\n      <td>VASQUEZ DE CORONADO</td>\n      <td>357</td>\n      <td>414</td>\n      <td>445</td>\n      <td>553</td>\n      <td>458</td>\n      <td>69500.0</td>\n      <td>6.408633</td>\n      <td>5.14</td>\n      <td>6.59</td>\n      <td>28.210117</td>\n    </tr>\n  </tbody>\n</table>\n<p>82 rows × 12 columns</p>\n</div>"
     },
     "execution_count": 99,
     "metadata": {},
     "output_type": "execute_result"
    }
   ],
   "source": [
    "info_canton['Crimenes_1000_2015'] = round((1000 * info_canton[2015])/info_canton['Poblacion'],2)\n",
    "info_canton['Crimenes_1000_2019'] = round((1000 * info_canton[2019])/info_canton['Poblacion'],2)\n",
    "info_canton['Tasa'] = (info_canton['Crimenes_1000_2019']/info_canton['Crimenes_1000_2015']-1)*100\n",
    "info_canton"
   ],
   "metadata": {
    "collapsed": false,
    "pycharm": {
     "name": "#%%\n"
    }
   }
  },
  {
   "cell_type": "code",
   "execution_count": 107,
   "outputs": [
    {
     "data": {
      "text/plain": "0        True\n1        True\n2        True\n3        True\n4        True\n        ...  \n2316    False\n2317    False\n2318    False\n2319    False\n2320    False\nName: Canton, Length: 2321, dtype: bool"
     },
     "execution_count": 107,
     "metadata": {},
     "output_type": "execute_result"
    }
   ],
   "source": [
    "#info_canton.to_csv('./Data/info_canton.csv')\n",
    "police_final.groupby(['Canton', 'Distrito', 'Ano'], as_index=False)['Count'].sum()"
   ],
   "metadata": {
    "collapsed": false,
    "pycharm": {
     "name": "#%%\n"
    }
   }
  }
 ],
 "metadata": {
  "kernelspec": {
   "display_name": "Python 3",
   "language": "python",
   "name": "python3"
  },
  "language_info": {
   "codemirror_mode": {
    "name": "ipython",
    "version": 2
   },
   "file_extension": ".py",
   "mimetype": "text/x-python",
   "name": "python",
   "nbconvert_exporter": "python",
   "pygments_lexer": "ipython2",
   "version": "2.7.6"
  }
 },
 "nbformat": 4,
 "nbformat_minor": 0
}